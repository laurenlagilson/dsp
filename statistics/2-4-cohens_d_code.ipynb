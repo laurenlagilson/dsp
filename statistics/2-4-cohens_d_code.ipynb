{
 "cells": [
  {
   "cell_type": "code",
   "execution_count": 54,
   "metadata": {},
   "outputs": [],
   "source": [
    "# Exercise 4   \n",
    "# Using the variable totalwgt_lb, investigate whether first babies are lighter or heavier than others. \n",
    "# Compute Cohen’s d to quantify the difference between the groups. \n",
    "# How does it compare to the difference in pregnancy length?"
   ]
  },
  {
   "cell_type": "code",
   "execution_count": 84,
   "metadata": {},
   "outputs": [],
   "source": [
    "#from __future__ import print_function, division\n",
    "\n",
    "%matplotlib inline\n",
    "\n",
    "#import numpy as np\n",
    "\n",
    "import nsfg\n",
    "#import first\n",
    "import thinkstats2\n",
    "import math"
   ]
  },
  {
   "cell_type": "code",
   "execution_count": 85,
   "metadata": {},
   "outputs": [],
   "source": [
    "# Cohen's d\n",
    "def CohenEffectSize(group1, group2):\n",
    "    diff = group1.mean() - group2.mean()\n",
    "    \n",
    "    var1 = group1.var()\n",
    "    var2 = group2.var()\n",
    "    n1, n2 = len(group1), len(group2)\n",
    "    \n",
    "    pooled_var = (n1 * var1 + n2 * var2) / (n1 + n2)\n",
    "    d = diff / math.sqrt(pooled_var)\n",
    "    return d\n"
   ]
  },
  {
   "cell_type": "code",
   "execution_count": 86,
   "metadata": {},
   "outputs": [],
   "source": [
    "# Statement to determine effect size using Cohen, 1988 and Sawilowsky, 2009 categories\n",
    "def category(cohenresult):\n",
    "    if 0.01 <= abs(cohenresult) < 0.2:\n",
    "        return \"Very Small\"\n",
    "    elif 0.2 <= abs(cohenresult) < 0.5:\n",
    "        return \"Medium\"\n",
    "    elif 0.5 <= abs(cohenresult) < 0.8:\n",
    "        return \"Large\"\n",
    "    elif 0.8 <= abs(cohenresult) < 1.2:\n",
    "        return \"Very Large\"\n",
    "    elif 1.2 <= abs(cohenresult) < 2.0:\n",
    "        return \"Huge\"\n",
    "    else:\n",
    "        return \"Value not in correct range, check calculation\"\n",
    "    "
   ]
  },
  {
   "cell_type": "code",
   "execution_count": 93,
   "metadata": {},
   "outputs": [],
   "source": [
    "# Load data from pregnancy file & sort live births from this\n",
    "pregfile = nsfg.ReadFemPreg()\n",
    "live = pregfile[pregfile.outcome == 1]"
   ]
  },
  {
   "cell_type": "code",
   "execution_count": 89,
   "metadata": {},
   "outputs": [],
   "source": [
    "# Sort into first born children and others\n",
    "first = live[live.birthord == 1]\n",
    "other = live[live.birthord != 1]"
   ]
  },
  {
   "cell_type": "code",
   "execution_count": 90,
   "metadata": {},
   "outputs": [
    {
     "name": "stdout",
     "output_type": "stream",
     "text": [
      "First borns are lighter\n"
     ]
    }
   ],
   "source": [
    "# Part 1 - Using the variable totalwgt_lb, investigate whether first babies are lighter or heavier than others.\n",
    "\n",
    "firstmean = first.totalwgt_lb.mean()\n",
    "othermean = other.totalwgt_lb.mean()\n",
    "\n",
    "if firstmean > othermean:\n",
    "    print('First borns are heavier')\n",
    "else: \n",
    "    print('First borns are lighter')"
   ]
  },
  {
   "cell_type": "code",
   "execution_count": 91,
   "metadata": {},
   "outputs": [
    {
     "name": "stdout",
     "output_type": "stream",
     "text": [
      "Using Cohen's d the difference is: -0.088672927072602\n",
      "Descriptor: Very Small\n"
     ]
    }
   ],
   "source": [
    "# Part 2 - Compute Cohen’s d to quantify the difference between the groups. \n",
    "x = CohenEffectSize(first.totalwgt_lb, other.totalwgt_lb)\n",
    "\n",
    "print(f\"Using Cohen's d the difference is: {x}\")\n",
    "print(f\"Descriptor: {category(x)}\")"
   ]
  },
  {
   "cell_type": "code",
   "execution_count": 92,
   "metadata": {},
   "outputs": [
    {
     "name": "stdout",
     "output_type": "stream",
     "text": [
      "Using Cohen's d the difference is: 0.028879044654449883\n",
      "Descriptor: Very Small\n"
     ]
    }
   ],
   "source": [
    "# Part 3 - How does it compare to the difference in pregnancy length?\n",
    "\n",
    "# Calculate Cohen d for pregnancy length\n",
    "y = CohenEffectSize(first.prglngth, other.prglngth)\n",
    "\n",
    "print(f\"Using Cohen's d the difference is: {y}\")\n",
    "print(f\"Descriptor: {category(y)}\")"
   ]
  },
  {
   "cell_type": "code",
   "execution_count": null,
   "metadata": {},
   "outputs": [],
   "source": []
  }
 ],
 "metadata": {
  "kernelspec": {
   "display_name": "Python 3",
   "language": "python",
   "name": "python3"
  },
  "language_info": {
   "codemirror_mode": {
    "name": "ipython",
    "version": 3
   },
   "file_extension": ".py",
   "mimetype": "text/x-python",
   "name": "python",
   "nbconvert_exporter": "python",
   "pygments_lexer": "ipython3",
   "version": "3.7.0"
  }
 },
 "nbformat": 4,
 "nbformat_minor": 2
}
