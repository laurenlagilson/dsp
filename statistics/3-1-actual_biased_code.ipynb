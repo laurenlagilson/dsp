{
 "cells": [
  {
   "cell_type": "code",
   "execution_count": 24,
   "metadata": {},
   "outputs": [],
   "source": [
    "# Exercise 3.1 Something like the class size paradox appears if you survey children and ask how many children \n",
    "# are in their family. \n",
    "# Families with many children are more likely to appear in your sample, and families with no children have no chance \n",
    "# to be in the sample.\n",
    "# Use the NSFG respondent variable NUMKDHH to construct the actual distribution for the number of children under 18 \n",
    "# in the household.\n",
    "\n",
    "# Now compute the biased distribution we would see if we surveyed the children and asked them how many children \n",
    "# under 18 (including themselves) are in their household.\n",
    "\n",
    "# Plot the actual and biased distributions, and compute their means. As a starting place, you can use chap03ex.ipynb."
   ]
  },
  {
   "cell_type": "code",
   "execution_count": 25,
   "metadata": {},
   "outputs": [],
   "source": [
    "import math\n",
    "import nsfg\n",
    "import thinkstats2\n",
    "import thinkplot\n"
   ]
  },
  {
   "cell_type": "code",
   "execution_count": 26,
   "metadata": {},
   "outputs": [],
   "source": [
    "# Read in file\n",
    "file = nsfg.ReadFemResp()"
   ]
  },
  {
   "cell_type": "code",
   "execution_count": 36,
   "metadata": {},
   "outputs": [],
   "source": [
    "# Part 1 - Use the NSFG respondent variable NUMKDHH to construct the actual distribution for the number of children \n",
    "# under 18 in the household.\n",
    "# pmf = probability mass function \n",
    "\n",
    "pmf = thinkstats2.Pmf(file.numkdhh, label = 'actual')"
   ]
  },
  {
   "cell_type": "code",
   "execution_count": 37,
   "metadata": {},
   "outputs": [
    {
     "data": {
      "image/png": "[encoded data removed]",
      "text/plain": [
       "<Figure size 432x288 with 1 Axes>"
      ]
     },
     "metadata": {
      "needs_background": "light"
     },
     "output_type": "display_data"
    }
   ],
   "source": [
    "# Plot distribution \n",
    "thinkplot.Pmf(pmf)\n",
    "thinkplot.Config(xlabel = 'No. of children', ylabel = 'PMF')"
   ]
  },
  {
   "cell_type": "code",
   "execution_count": 38,
   "metadata": {},
   "outputs": [],
   "source": [
    "# Part 2 - Now compute the biased distribution we would see if we surveyed the children and asked them how many \n",
    "# children under 18 (including themselves) are in their household.\n",
    "\n",
    "# define BiasPmf function from ThinkStats book\n",
    "def BiasPmf(pmf, label):\n",
    "    new_pmf = pmf.Copy(label = label)\n",
    "    \n",
    "    for x, p in pmf.Items():\n",
    "        new_pmf.Mult(x, x)\n",
    "    new_pmf.Normalize()\n",
    "    return new_pmf"
   ]
  },
  {
   "cell_type": "code",
   "execution_count": 39,
   "metadata": {},
   "outputs": [
    {
     "data": {
      "image/png": "[encoded data removed]",
      "text/plain": [
       "<Figure size 432x288 with 1 Axes>"
      ]
     },
     "metadata": {
      "needs_background": "light"
     },
     "output_type": "display_data"
    }
   ],
   "source": [
    "# Create biased pmf using function & plot\n",
    "biased_pmf = BiasPmf(pmf, label='biased')\n",
    "thinkplot.Pmf(biased_pmf)\n"
   ]
  },
  {
   "cell_type": "code",
   "execution_count": 41,
   "metadata": {},
   "outputs": [
    {
     "data": {
      "image/png": "[encoded data removed]",
      "text/plain": [
       "<Figure size 432x288 with 1 Axes>"
      ]
     },
     "metadata": {
      "needs_background": "light"
     },
     "output_type": "display_data"
    },
    {
     "data": {
      "text/plain": [
       "<Figure size 576x432 with 0 Axes>"
      ]
     },
     "metadata": {},
     "output_type": "display_data"
    }
   ],
   "source": [
    "# Plot the actual and biased distributions, and compute their means. As a starting place, you can use chap03ex.ipynb.\n",
    "\n",
    "thinkplot.PrePlot(2)\n",
    "thinkplot.Pmfs([pmf, biased_pmf])\n",
    "thinkplot.Show(xlabel='Number of children', ylabel='PMF')"
   ]
  },
  {
   "cell_type": "code",
   "execution_count": 46,
   "metadata": {},
   "outputs": [
    {
     "name": "stdout",
     "output_type": "stream",
     "text": [
      "The actual mean is: 1.024205155043831\n",
      "The biased mean is: 2.403679100664282\n"
     ]
    }
   ],
   "source": [
    "# Compute means \n",
    "print(f\"The actual mean is: {pmf.Mean()}\")\n",
    "print(f\"The biased mean is: {biased_pmf.Mean()}\")"
   ]
  },
  {
   "cell_type": "code",
   "execution_count": null,
   "metadata": {},
   "outputs": [],
   "source": []
  }
 ],
 "metadata": {
  "kernelspec": {
   "display_name": "Python 3",
   "language": "python",
   "name": "python3"
  },
  "language_info": {
   "codemirror_mode": {
    "name": "ipython",
    "version": 3
   },
   "file_extension": ".py",
   "mimetype": "text/x-python",
   "name": "python",
   "nbconvert_exporter": "python",
   "pygments_lexer": "ipython3",
   "version": "3.7.0"
  }
 },
 "nbformat": 4,
 "nbformat_minor": 2
}
